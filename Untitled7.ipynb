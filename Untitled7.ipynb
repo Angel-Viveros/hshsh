{
  "nbformat": 4,
  "nbformat_minor": 0,
  "metadata": {
    "colab": {
      "name": "Untitled7.ipynb",
      "provenance": []
    },
    "kernelspec": {
      "name": "python3",
      "display_name": "Python 3"
    },
    "language_info": {
      "name": "python"
    }
  },
  "cells": [
    {
      "cell_type": "code",
      "metadata": {
        "id": "fYDV_VnP2bnD"
      },
      "source": [
        "class Nodo:\n",
        "  def __init__( self , value , siguiente = None ):\n",
        "        self.data = value\n",
        "        self.next = siguiente\n",
        "class LinkedList:\n",
        "  def __init__(self):\n",
        "    self.head = None\n",
        "\n",
        "  def is_empty (self):\n",
        "    return self.head == None\n",
        "\n",
        "  def get_tail(self):\n",
        "    if self.is_empty():\n",
        "      return None\n",
        "    else:\n",
        "      curr_node = self.head\n",
        "      while curr_node.next != None:\n",
        "        curr_node = curr_node.next\n",
        "      return curr_node\n",
        "\n",
        "  def append( self, value):\n",
        "    if self.head == None:\n",
        "        self.head = Nodo(value)\n",
        "    else:\n",
        "      curr_node = self.head\n",
        "      while curr_node.next != None:\n",
        "        curr_node = curr_node.next\n",
        "      curr_node.next = Nodo(value)\n",
        "\n",
        "\n",
        "  def transversal (self):\n",
        "    curr_node = self.head\n",
        "    while curr_node != None:\n",
        "      print(f\"| {curr_node.data} | -->\", end=\"\")\n",
        "      curr_node = curr_node.next\n",
        "    print (\"\")\n",
        "\n",
        "  def remove ( self , value):\n",
        "    if self.head == None:\n",
        "      print(\"Lista vacia, no se pudo remover nada\")\n",
        "    else:\n",
        "      curr_node = self.head\n",
        "      aux = None\n",
        "      while curr_node.data != value:\n",
        "        aux = curr_node\n",
        "        curr_node = curr_node.next\n",
        "        \n",
        "      if curr_node != None:\n",
        "        aux.next = curr_node.next\n",
        "        curr_node = None\n",
        "\n",
        "  def preppend ( self, value):\n",
        "    if self.head != None:\n",
        "      print(\"esta vacio\")\n",
        "    else:\n",
        "      aux = self.head\n",
        "      self.head = Nodo (value,aux)"
      ],
      "execution_count": 11,
      "outputs": []
    },
    {
      "cell_type": "code",
      "metadata": {
        "colab": {
          "base_uri": "https://localhost:8080/"
        },
        "id": "Pvxs2p3X3Ubs",
        "outputId": "7997ee46-925a-400b-862f-51d5f9ec9349"
      },
      "source": [
        "head = Nodo(40, Nodo(50, Nodo(55, Nodo(65))))\n",
        "\n",
        "\n",
        "curr_node = head\n",
        "while curr_node != None:\n",
        "  print(f\"|{curr_node.data}| -->\", end=\"\")\n",
        "  curr_node=curr_node.next\n",
        "print(\"\")\n",
        "\n",
        "\n",
        "curr_node= head\n",
        "while curr_node.data !=40:\n",
        "  curr_node= curr_node.next\n",
        "\n",
        "\n",
        "curr_node.next = Nodo(45,curr_node.next)\n",
        "print(\"Despues de instertar 45\")\n",
        "\n",
        "curr_node = head\n",
        "while curr_node != None:\n",
        "  print(f\"|{curr_node.data}| -->\", end=\"\")\n",
        "  curr_node=curr_node.next\n",
        "print(\"\")\n",
        "\n",
        "curr_node= head\n",
        "while curr_node.data !=55:\n",
        "  curr_node= curr_node.next\n",
        "\n",
        "\n",
        "curr_node.next = Nodo(60,curr_node.next)\n",
        "print(\"Despues de instertar 60\")\n",
        "\n",
        "curr_node = head\n",
        "while curr_node != None:\n",
        "  print(f\"|{curr_node.data}| -->\", end=\"\")\n",
        "  curr_node=curr_node.next\n",
        "print(\"\")\n",
        "\n",
        "\n",
        "\n",
        "\n",
        "\n"
      ],
      "execution_count": 41,
      "outputs": [
        {
          "output_type": "stream",
          "name": "stdout",
          "text": [
            "|40| -->|50| -->|55| -->|65| -->\n",
            "Despues de instertar 45\n",
            "|40| -->|45| -->|50| -->|55| -->|65| -->\n",
            "Despues de instertar 60\n",
            "|40| -->|45| -->|50| -->|55| -->|60| -->|65| -->\n"
          ]
        }
      ]
    }
  ]
}